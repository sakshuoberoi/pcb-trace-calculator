{
 "cells": [
  {
   "cell_type": "markdown",
   "id": "414d439c",
   "metadata": {},
   "source": [
    "# 🧮 PCB Trace Resistance Calculator\n",
    "Enter values and units below to compute resistance."
   ]
  },
  {
   "cell_type": "code",
   "execution_count": null,
   "id": "9f966d4d",
   "metadata": {},
   "outputs": [],
   "source": [
    "\n",
    "import ipywidgets as widgets\n",
    "from IPython.display import display\n",
    "\n",
    "def convert_to_meters(value, unit):\n",
    "    if unit == 'mils':\n",
    "        return value * 0.0254e-3\n",
    "    elif unit == 'mm':\n",
    "        return value * 1e-3\n",
    "    elif unit == 'inches':\n",
    "        return value * 0.0254\n",
    "    elif unit == 'meters':\n",
    "        return value\n",
    "    return value\n",
    "\n",
    "def calculate_trace_resistance(width, thickness, length, width_unit, thickness_unit, length_unit, resistivity=1.68e-8):\n",
    "    width_m = convert_to_meters(width, width_unit)\n",
    "    thickness_m = convert_to_meters(thickness, thickness_unit)\n",
    "    length_m = convert_to_meters(length, length_unit)\n",
    "    area = width_m * thickness_m\n",
    "    resistance = (resistivity * length_m) / area\n",
    "    return resistance\n",
    "\n",
    "width_input = widgets.FloatText(description='Width:')\n",
    "width_unit = widgets.Dropdown(options=['mils', 'mm', 'inches'], value='mils')\n",
    "\n",
    "thickness_input = widgets.FloatText(description='Thickness:')\n",
    "thickness_unit = widgets.Dropdown(options=['mils', 'mm', 'inches'], value='mils')\n",
    "\n",
    "length_input = widgets.FloatText(description='Length:')\n",
    "length_unit = widgets.Dropdown(options=['mils', 'mm', 'inches', 'meters'], value='mils')\n",
    "\n",
    "result_output = widgets.HTML(value='Resistance: -')\n",
    "\n",
    "def on_calculate_clicked(b):\n",
    "    try:\n",
    "        width = float(width_input.value)\n",
    "        thickness = float(thickness_input.value)\n",
    "        length = float(length_input.value)\n",
    "        resistance = calculate_trace_resistance(width, thickness, length,\n",
    "                                                width_unit.value, thickness_unit.value, length_unit.value)\n",
    "        result_output.value = f\"<b>Resistance:</b> {resistance:.6f} Ohms\"\n",
    "    except ValueError:\n",
    "        result_output.value = \"<b>Error:</b> Please enter valid numbers.\"\n",
    "\n",
    "calc_button = widgets.Button(description='Calculate')\n",
    "calc_button.on_click(on_calculate_clicked)\n",
    "\n",
    "display(widgets.HBox([width_input, width_unit]))\n",
    "display(widgets.HBox([thickness_input, thickness_unit]))\n",
    "display(widgets.HBox([length_input, length_unit]))\n",
    "display(calc_button)\n",
    "display(result_output)\n"
   ]
  }
 ],
 "metadata": {
  "language_info": {
   "name": "python"
  }
 },
 "nbformat": 4,
 "nbformat_minor": 5
}
